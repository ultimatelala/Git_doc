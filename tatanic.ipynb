{
  "nbformat": 4,
  "nbformat_minor": 0,
  "metadata": {
    "colab": {
      "name": "Untitled0.ipynb",
      "provenance": [],
      "collapsed_sections": [],
      "authorship_tag": "ABX9TyNiduW57xFIuArxom845evq",
      "include_colab_link": true
    },
    "kernelspec": {
      "name": "python3",
      "display_name": "Python 3"
    }
  },
  "cells": [
    {
      "cell_type": "markdown",
      "metadata": {
        "id": "view-in-github",
        "colab_type": "text"
      },
      "source": [
        "<a href=\"https://colab.research.google.com/github/ultimatelala/Git_doc/blob/master/tatanic.ipynb\" target=\"_parent\"><img src=\"https://colab.research.google.com/assets/colab-badge.svg\" alt=\"Open In Colab\"/></a>"
      ]
    },
    {
      "cell_type": "code",
      "metadata": {
        "id": "P6gyLGUKKDdY",
        "colab_type": "code",
        "colab": {}
      },
      "source": [
        "import pandas as pd\n",
        "import numpy as np"
      ],
      "execution_count": null,
      "outputs": []
    },
    {
      "cell_type": "code",
      "metadata": {
        "id": "IkefSQHYKTJj",
        "colab_type": "code",
        "colab": {}
      },
      "source": [
        "train=pd.read_csv(r'train.csv')\n",
        "test=pd.read_csv(r'test.csv')\n",
        "print('train_data',train.shape,'test_data',test.shape)\n",
        "full=train.append(test,ignore_index=True)\n",
        "full.describe()\n",
        "full.info()"
      ],
      "execution_count": null,
      "outputs": []
    },
    {
      "cell_type": "markdown",
      "metadata": {
        "id": "toANYcpUKd7C",
        "colab_type": "text"
      },
      "source": [
        "**处理异常值**"
      ]
    },
    {
      "cell_type": "code",
      "metadata": {
        "id": "6uHcGTwIKXzP",
        "colab_type": "code",
        "colab": {}
      },
      "source": [
        "#处理异常值（加入平均数（定量），加入最常见数组（定性））\n",
        "full['Age'].fillna(full['Age'].mean(),inplace=True)\n",
        "full['Fare'].fillna(full['Fare'].mean(),inplace=True)\n",
        "full['Embarked'].value_counts()\n",
        "full['Embarked'].fillna('S',inplace=True)\n",
        "#缺失值过多，用‘U’替代\n",
        "full['Cabin'].head(10)\n",
        "full['Cabin'].fillna('U',inplace=True)"
      ],
      "execution_count": null,
      "outputs": []
    },
    {
      "cell_type": "markdown",
      "metadata": {
        "id": "om9xoOxBKh7N",
        "colab_type": "text"
      },
      "source": [
        "**特征工程**"
      ]
    },
    {
      "cell_type": "markdown",
      "metadata": {
        "id": "2U7pATOOKwk2",
        "colab_type": "text"
      },
      "source": [
        "性别处理"
      ]
    },
    {
      "cell_type": "code",
      "metadata": {
        "id": "hrKq_E75KkZg",
        "colab_type": "code",
        "colab": {}
      },
      "source": [
        "full['Sex']=full['Sex'].map({'male':1,'female':0})"
      ],
      "execution_count": null,
      "outputs": []
    },
    {
      "cell_type": "markdown",
      "metadata": {
        "id": "hcoVKtkOLDLs",
        "colab_type": "text"
      },
      "source": [
        "港口one—hot编码"
      ]
    },
    {
      "cell_type": "code",
      "metadata": {
        "id": "Fzi4PRvZLGy4",
        "colab_type": "code",
        "colab": {}
      },
      "source": [
        "full['Embarked'].head()\n",
        "embark=pd.get_dummies(full['Embarked'],prefix='port')\n",
        "full=pd.concat([full,embark],axis=1)\n",
        "full.drop('Embarked',axis=1,inplace=True)"
      ],
      "execution_count": null,
      "outputs": []
    },
    {
      "cell_type": "markdown",
      "metadata": {
        "id": "0lbsvuNaLTbS",
        "colab_type": "text"
      },
      "source": [
        "船仓one—hot编码"
      ]
    },
    {
      "cell_type": "code",
      "metadata": {
        "id": "o3kTosh-LOi0",
        "colab_type": "code",
        "colab": {}
      },
      "source": [
        "pclass=pd.get_dummies(full['Pclass'],prefix='Pclass')\n",
        "full=pd.concat([full,pclass],axis=1)\n",
        "full.drop('Pclass', axis=1,inplace=True)"
      ],
      "execution_count": null,
      "outputs": []
    },
    {
      "cell_type": "markdown",
      "metadata": {
        "id": "gkX4SbuJLRhO",
        "colab_type": "text"
      },
      "source": [
        "姓名处理"
      ]
    },
    {
      "cell_type": "code",
      "metadata": {
        "id": "auWzW9y7LaU4",
        "colab_type": "code",
        "colab": {}
      },
      "source": [
        "full['Name'].head()\n",
        "def title(name):\n",
        "    str1=name.split(',')[1]\n",
        "    str2=str1.split('.')[0].strip()\n",
        "    return str2\n",
        "full['Name']=full['Name'].map(title)\n",
        "full['Name'].value_counts()\n",
        "title_mapDict ={'Capt':'officer','Col':'Officer','Major':'Officer','Jonkheer':'Royalty','Don':'Royalty','Sir':'Royalty','Dr':'Officer','Rev':'Officer','the Countess':'Royalty','Dona':'Royalty','Mme':'Mrs','Mlle':'Miss','Ms':'Mrs','Mr':'Mr','Mrs':'Mrs','Miss':'Miss','Master':'Master','Lady':'Royalty'} \n",
        "full['Name'] = full['Name'].map(title_mapDict)\n",
        "name=pd.get_dummies(full['Name'])\n",
        "full=pd.concat([full,name],axis=1)\n",
        "full.drop('Name',axis=1,inplace=True)"
      ],
      "execution_count": null,
      "outputs": []
    },
    {
      "cell_type": "markdown",
      "metadata": {
        "id": "amNWh-WpLfYP",
        "colab_type": "text"
      },
      "source": [
        "客舱one—hot编码"
      ]
    },
    {
      "cell_type": "code",
      "metadata": {
        "id": "7kKKHelQLesu",
        "colab_type": "code",
        "colab": {}
      },
      "source": [
        "full['Cabin'].value_counts()\n",
        "full['Cabin']=full['Cabin'].map(lambda x:x[0])\n",
        "Cabin=pd.get_dummies(full['Cabin'],prefix='Cabin')\n",
        "full=pd.concat([full,Cabin],axis=1)\n",
        "full.drop('Cabin',axis=1,inplace=True)"
      ],
      "execution_count": null,
      "outputs": []
    },
    {
      "cell_type": "markdown",
      "metadata": {
        "id": "8uLQUIbJLlpQ",
        "colab_type": "text"
      },
      "source": [
        "家庭成员处理"
      ]
    },
    {
      "cell_type": "code",
      "metadata": {
        "id": "pAVxPzEMLn9B",
        "colab_type": "code",
        "colab": {}
      },
      "source": [
        "family=pd.DataFrame()\n",
        "family['number']=full['Parch']+full['SibSp']+1\n",
        "family['single']=family['number'].map(lambda x:1 if x==1 else 0)\n",
        "family['small']=family['number'].map(lambda x:1 if 2<=x<=4 else 0)\n",
        "family['large']=family['number'].map(lambda x:1 if x>4 else 0)\n",
        "family.head(15)"
      ],
      "execution_count": null,
      "outputs": []
    },
    {
      "cell_type": "markdown",
      "metadata": {
        "id": "KHrMHEzjL49N",
        "colab_type": "text"
      },
      "source": [
        "查看各元素和生还率的相关值\n"
      ]
    },
    {
      "cell_type": "code",
      "metadata": {
        "id": "nNfpAcj0L79R",
        "colab_type": "code",
        "colab": {}
      },
      "source": [
        "full=pd.concat([full,family],axis=1)\n",
        "full.corr()['Survived'].sort_values(ascending=False)\n",
        "full_x=pd.concat([name,pclass,family,full['Fare'],full['Sex'],Cabin],axis=1)\n",
        "sourcerow=891\n",
        "source_x=full_x.loc[0:sourcerow-1,:]\n",
        "source_y=full.loc[:sourcerow-1,'Survived']\n",
        "pred_x=full_x.loc[sourcerow:,:]"
      ],
      "execution_count": null,
      "outputs": []
    },
    {
      "cell_type": "markdown",
      "metadata": {
        "id": "09g9wiWmMDdS",
        "colab_type": "text"
      },
      "source": [
        "**开始机器训练**"
      ]
    },
    {
      "cell_type": "code",
      "metadata": {
        "id": "ppIH-EsxMGtK",
        "colab_type": "code",
        "colab": {}
      },
      "source": [
        "from sklearn.cross_validation import train_test_split\n",
        "train_x,test_x,train_y,test_y=train_test_split(source_x,source_y,train_size=0.8)\n",
        "print ('原始数据集特征：',source_x.shape, \n",
        "       '训练数据集特征：',train_x.shape ,\n",
        "      '测试数据集特征：',test_x.shape)\n",
        "\n",
        "print ('原始数据集标签：',source_y.shape, \n",
        "       '训练数据集标签：',train_y.shape ,\n",
        "      '测试数据集标签：',test_y.shape)\n",
        "from sklearn.linear_model import LogisticRegression\n",
        "model=LogisticRegression()\n",
        "model.fit( train_x, train_y )\n",
        "model.score(test_x,test_y)"
      ],
      "execution_count": null,
      "outputs": []
    },
    {
      "cell_type": "markdown",
      "metadata": {
        "id": "U6Htb_-EMKsE",
        "colab_type": "text"
      },
      "source": [
        "**上传正确格式CSV文件**"
      ]
    },
    {
      "cell_type": "code",
      "metadata": {
        "id": "rQ1Sk2CoMOos",
        "colab_type": "code",
        "colab": {}
      },
      "source": [
        "pred_y=model.predict(pred_x)\n",
        "pred_y=pred_y.astype(int)\n",
        "passenger_id=full.loc[sourcerow:,'PassengerId']\n",
        "pred=pd.DataFrame({'PassengerId':passenger_id,'Survived':pred_y})\n",
        "pred.reset_index(inplace=True,drop=True)\n",
        "pred.head()\n",
        "pred.to_csv(r'D:\\DA\\titanic\\final.csv',index=False)"
      ],
      "execution_count": null,
      "outputs": []
    }
  ]
}